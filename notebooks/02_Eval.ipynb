{
 "cells": [
  {
   "cell_type": "code",
   "execution_count": null,
   "id": "ef43e8c8",
   "metadata": {
    "vscode": {
     "languageId": "plaintext"
    }
   },
   "outputs": [],
   "source": [
    "!pip install -q -r requirements.txt"
   ]
  },
  {
   "cell_type": "code",
   "execution_count": null,
   "id": "9879fe75",
   "metadata": {
    "vscode": {
     "languageId": "plaintext"
    }
   },
   "outputs": [],
   "source": [
    "# Evaluate perplexity on IMDB test using a Hub model\n",
    "python -m src.evaluate \\\n",
    "  --model adetuire1/gpt2-imdb-tuned \\\n",
    "  --dataset-name imdb --split test \\\n",
    "  --n-texts 2000 --batch-size 4 --max-len 512 \\\n",
    "  --cache-dir /content/cache \\\n",
    "  --out-json results/ppl.json"
   ]
  },
  {
   "cell_type": "code",
   "execution_count": null,
   "id": "e2de198d",
   "metadata": {
    "vscode": {
     "languageId": "plaintext"
    }
   },
   "outputs": [],
   "source": [
    "import json, pprint; pprint.pp(json.load(open(\"results/ppl.json\")))"
   ]
  }
 ],
 "metadata": {
  "language_info": {
   "name": "python"
  }
 },
 "nbformat": 4,
 "nbformat_minor": 5
}
